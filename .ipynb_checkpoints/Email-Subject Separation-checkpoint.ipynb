{
 "cells": [
  {
   "cell_type": "code",
   "execution_count": 9,
   "id": "1b93c638",
   "metadata": {},
   "outputs": [],
   "source": [
    "import os\n",
    "import re\n",
    "import csv\n",
    "\n",
    "enron_dir = \"enron1\"\n",
    "\n",
    "with open('enron_emails.csv', 'w', newline='') as csvfile:\n",
    "    fieldnames = ['File', 'Subject', 'Body']\n",
    "    writer = csv.DictWriter(csvfile, fieldnames=fieldnames)\n",
    "    writer.writeheader()\n",
    "\n",
    "    for root, dirs, files in os.walk(enron_dir):\n",
    "        for file in files:\n",
    "            filepath = os.path.join(root, file)\n",
    "            with open(filepath, 'r', encoding='utf-8', errors='ignore') as f:\n",
    "                content = f.read()\n",
    "                subject_match = re.search(r\"^Subject: (.+)\", content, re.M)\n",
    "                subject = subject_match.group(1) if subject_match else \"\"\n",
    "                body_match = re.search(r\"\\n(.+)\", content, re.S)\n",
    "                body = body_match.group(1) if body_match else \"\"\n",
    "                writer.writerow({'File': filepath, 'Subject': subject, 'Body': body})"
   ]
  },
  {
   "cell_type": "code",
   "execution_count": 2,
   "id": "12acae65",
   "metadata": {},
   "outputs": [],
   "source": [
    "import pandas as pd"
   ]
  },
  {
   "cell_type": "code",
   "execution_count": 12,
   "id": "adfcec86",
   "metadata": {},
   "outputs": [],
   "source": [
    "df = pd.read_csv('enron_emails.csv')"
   ]
  },
  {
   "cell_type": "code",
   "execution_count": 13,
   "id": "3d105a53",
   "metadata": {},
   "outputs": [
    {
     "data": {
      "text/html": [
       "<div>\n",
       "<style scoped>\n",
       "    .dataframe tbody tr th:only-of-type {\n",
       "        vertical-align: middle;\n",
       "    }\n",
       "\n",
       "    .dataframe tbody tr th {\n",
       "        vertical-align: top;\n",
       "    }\n",
       "\n",
       "    .dataframe thead th {\n",
       "        text-align: right;\n",
       "    }\n",
       "</style>\n",
       "<table border=\"1\" class=\"dataframe\">\n",
       "  <thead>\n",
       "    <tr style=\"text-align: right;\">\n",
       "      <th></th>\n",
       "      <th>File</th>\n",
       "      <th>Subject</th>\n",
       "      <th>Body</th>\n",
       "    </tr>\n",
       "  </thead>\n",
       "  <tbody>\n",
       "    <tr>\n",
       "      <th>0</th>\n",
       "      <td>enron1\\ham\\0001.1999-12-10.farmer.ham.txt</td>\n",
       "      <td>christmas tree farm pictures</td>\n",
       "      <td>NaN</td>\n",
       "    </tr>\n",
       "    <tr>\n",
       "      <th>1</th>\n",
       "      <td>enron1\\ham\\0002.1999-12-13.farmer.ham.txt</td>\n",
       "      <td>vastar resources , inc .</td>\n",
       "      <td>gary , production from the high island larger ...</td>\n",
       "    </tr>\n",
       "    <tr>\n",
       "      <th>2</th>\n",
       "      <td>enron1\\ham\\0003.1999-12-14.farmer.ham.txt</td>\n",
       "      <td>calpine daily gas nomination</td>\n",
       "      <td>- calpine daily gas nomination 1 . doc</td>\n",
       "    </tr>\n",
       "    <tr>\n",
       "      <th>3</th>\n",
       "      <td>enron1\\ham\\0004.1999-12-14.farmer.ham.txt</td>\n",
       "      <td>re : issue</td>\n",
       "      <td>fyi - see note below - already done .\\nstella\\...</td>\n",
       "    </tr>\n",
       "    <tr>\n",
       "      <th>4</th>\n",
       "      <td>enron1\\ham\\0005.1999-12-14.farmer.ham.txt</td>\n",
       "      <td>meter 7268 nov allocation</td>\n",
       "      <td>fyi .\\n- - - - - - - - - - - - - - - - - - - -...</td>\n",
       "    </tr>\n",
       "  </tbody>\n",
       "</table>\n",
       "</div>"
      ],
      "text/plain": [
       "                                        File                       Subject  \\\n",
       "0  enron1\\ham\\0001.1999-12-10.farmer.ham.txt  christmas tree farm pictures   \n",
       "1  enron1\\ham\\0002.1999-12-13.farmer.ham.txt      vastar resources , inc .   \n",
       "2  enron1\\ham\\0003.1999-12-14.farmer.ham.txt  calpine daily gas nomination   \n",
       "3  enron1\\ham\\0004.1999-12-14.farmer.ham.txt                    re : issue   \n",
       "4  enron1\\ham\\0005.1999-12-14.farmer.ham.txt     meter 7268 nov allocation   \n",
       "\n",
       "                                                Body  \n",
       "0                                                NaN  \n",
       "1  gary , production from the high island larger ...  \n",
       "2             - calpine daily gas nomination 1 . doc  \n",
       "3  fyi - see note below - already done .\\nstella\\...  \n",
       "4  fyi .\\n- - - - - - - - - - - - - - - - - - - -...  "
      ]
     },
     "execution_count": 13,
     "metadata": {},
     "output_type": "execute_result"
    }
   ],
   "source": [
    "df.head()"
   ]
  },
  {
   "cell_type": "code",
   "execution_count": 17,
   "id": "14e10001",
   "metadata": {},
   "outputs": [],
   "source": [
    "enron_dir = \"enron2\"\n",
    "\n",
    "with open('enron2_emails.csv', 'w', newline='') as csvfile:\n",
    "    fieldnames = ['File', 'Subject', 'Body']\n",
    "    writer = csv.DictWriter(csvfile, fieldnames=fieldnames)\n",
    "    writer.writeheader()\n",
    "\n",
    "    for root, dirs, files in os.walk(enron_dir):\n",
    "        for file in files:\n",
    "            filepath = os.path.join(root, file)\n",
    "            with open(filepath, 'r', encoding='utf-8', errors='ignore') as f:\n",
    "                content = f.read()\n",
    "                subject_match = re.search(r\"^Subject: (.+)\", content, re.M)\n",
    "                subject = subject_match.group(1) if subject_match else \"\"\n",
    "                body_match = re.search(r\"\\n(.+)\", content, re.S)\n",
    "                body = body_match.group(1) if body_match else \"\"\n",
    "                writer.writerow({'File': filepath, 'Subject': subject, 'Body': body})"
   ]
  },
  {
   "cell_type": "code",
   "execution_count": 18,
   "id": "6ad94768",
   "metadata": {},
   "outputs": [],
   "source": [
    "df = pd.read_csv('enron2_emails.csv')"
   ]
  },
  {
   "cell_type": "code",
   "execution_count": 19,
   "id": "4503d220",
   "metadata": {},
   "outputs": [
    {
     "data": {
      "text/html": [
       "<div>\n",
       "<style scoped>\n",
       "    .dataframe tbody tr th:only-of-type {\n",
       "        vertical-align: middle;\n",
       "    }\n",
       "\n",
       "    .dataframe tbody tr th {\n",
       "        vertical-align: top;\n",
       "    }\n",
       "\n",
       "    .dataframe thead th {\n",
       "        text-align: right;\n",
       "    }\n",
       "</style>\n",
       "<table border=\"1\" class=\"dataframe\">\n",
       "  <thead>\n",
       "    <tr style=\"text-align: right;\">\n",
       "      <th></th>\n",
       "      <th>File</th>\n",
       "      <th>Subject</th>\n",
       "      <th>Body</th>\n",
       "    </tr>\n",
       "  </thead>\n",
       "  <tbody>\n",
       "    <tr>\n",
       "      <th>0</th>\n",
       "      <td>enron2\\ham\\0001.1999-12-10.kaminski.ham.txt</td>\n",
       "      <td>re : rankings</td>\n",
       "      <td>thank you .</td>\n",
       "    </tr>\n",
       "    <tr>\n",
       "      <th>1</th>\n",
       "      <td>enron2\\ham\\0003.1999-12-10.kaminski.ham.txt</td>\n",
       "      <td>re : visit to enron</td>\n",
       "      <td>vince ,\\ndec . 29 at 9 : 00 will be fine . i h...</td>\n",
       "    </tr>\n",
       "    <tr>\n",
       "      <th>2</th>\n",
       "      <td>enron2\\ham\\0004.1999-12-10.kaminski.ham.txt</td>\n",
       "      <td>research group move to the 19 th floor</td>\n",
       "      <td>hello all :\\nin case any of you feel energetic...</td>\n",
       "    </tr>\n",
       "    <tr>\n",
       "      <th>3</th>\n",
       "      <td>enron2\\ham\\0005.1999-12-12.kaminski.ham.txt</td>\n",
       "      <td>christmas baskets</td>\n",
       "      <td>the christmas baskets have been ordered .\\nwe ...</td>\n",
       "    </tr>\n",
       "    <tr>\n",
       "      <th>4</th>\n",
       "      <td>enron2\\ham\\0006.1999-12-13.kaminski.ham.txt</td>\n",
       "      <td>japan candidate</td>\n",
       "      <td>vince ,\\ni spoke with whalley at the sa offsit...</td>\n",
       "    </tr>\n",
       "  </tbody>\n",
       "</table>\n",
       "</div>"
      ],
      "text/plain": [
       "                                          File  \\\n",
       "0  enron2\\ham\\0001.1999-12-10.kaminski.ham.txt   \n",
       "1  enron2\\ham\\0003.1999-12-10.kaminski.ham.txt   \n",
       "2  enron2\\ham\\0004.1999-12-10.kaminski.ham.txt   \n",
       "3  enron2\\ham\\0005.1999-12-12.kaminski.ham.txt   \n",
       "4  enron2\\ham\\0006.1999-12-13.kaminski.ham.txt   \n",
       "\n",
       "                                  Subject  \\\n",
       "0                           re : rankings   \n",
       "1                     re : visit to enron   \n",
       "2  research group move to the 19 th floor   \n",
       "3                       christmas baskets   \n",
       "4                         japan candidate   \n",
       "\n",
       "                                                Body  \n",
       "0                                        thank you .  \n",
       "1  vince ,\\ndec . 29 at 9 : 00 will be fine . i h...  \n",
       "2  hello all :\\nin case any of you feel energetic...  \n",
       "3  the christmas baskets have been ordered .\\nwe ...  \n",
       "4  vince ,\\ni spoke with whalley at the sa offsit...  "
      ]
     },
     "execution_count": 19,
     "metadata": {},
     "output_type": "execute_result"
    }
   ],
   "source": [
    "df.head()"
   ]
  },
  {
   "cell_type": "code",
   "execution_count": 24,
   "id": "7884966e",
   "metadata": {},
   "outputs": [],
   "source": [
    "enron_dir = \"enron3\"\n",
    "\n",
    "with open('enron3_emails.csv', 'w', newline='') as csvfile:\n",
    "    fieldnames = ['File', 'Subject', 'Body']\n",
    "    writer = csv.DictWriter(csvfile, fieldnames=fieldnames)\n",
    "    writer.writeheader()\n",
    "\n",
    "    for root, dirs, files in os.walk(enron_dir):\n",
    "        for file in files:\n",
    "            filepath = os.path.join(root, file)\n",
    "            with open(filepath, 'r', encoding='utf-8', errors='ignore') as f:\n",
    "                content = f.read()\n",
    "                subject_match = re.search(r\"^Subject: (.+)\", content, re.M)\n",
    "                subject = subject_match.group(1) if subject_match else \"\"\n",
    "                body_match = re.search(r\"\\n(.+)\", content, re.S)\n",
    "                body = body_match.group(1) if body_match else \"\"\n",
    "                writer.writerow({'File': filepath, 'Subject': subject, 'Body': body})"
   ]
  },
  {
   "cell_type": "code",
   "execution_count": 25,
   "id": "50becadb",
   "metadata": {},
   "outputs": [],
   "source": [
    "df = pd.read_csv('enron3_emails.csv')"
   ]
  },
  {
   "cell_type": "code",
   "execution_count": 26,
   "id": "65587711",
   "metadata": {},
   "outputs": [
    {
     "data": {
      "text/html": [
       "<div>\n",
       "<style scoped>\n",
       "    .dataframe tbody tr th:only-of-type {\n",
       "        vertical-align: middle;\n",
       "    }\n",
       "\n",
       "    .dataframe tbody tr th {\n",
       "        vertical-align: top;\n",
       "    }\n",
       "\n",
       "    .dataframe thead th {\n",
       "        text-align: right;\n",
       "    }\n",
       "</style>\n",
       "<table border=\"1\" class=\"dataframe\">\n",
       "  <thead>\n",
       "    <tr style=\"text-align: right;\">\n",
       "      <th></th>\n",
       "      <th>File</th>\n",
       "      <th>Subject</th>\n",
       "      <th>Body</th>\n",
       "    </tr>\n",
       "  </thead>\n",
       "  <tbody>\n",
       "    <tr>\n",
       "      <th>0</th>\n",
       "      <td>enron3\\ham\\0001.2001-02-07.kitchen.ham.txt</td>\n",
       "      <td>key hr issues going forward</td>\n",
       "      <td>a ) year end reviews - report needs generating...</td>\n",
       "    </tr>\n",
       "    <tr>\n",
       "      <th>1</th>\n",
       "      <td>enron3\\ham\\0002.2001-02-07.kitchen.ham.txt</td>\n",
       "      <td>congrats !</td>\n",
       "      <td>contratulations on the execution of the centra...</td>\n",
       "    </tr>\n",
       "    <tr>\n",
       "      <th>2</th>\n",
       "      <td>enron3\\ham\\0003.2001-02-08.kitchen.ham.txt</td>\n",
       "      <td>re : key hr issues going forward</td>\n",
       "      <td>all is under control :\\na - we ' ve set up a \"...</td>\n",
       "    </tr>\n",
       "    <tr>\n",
       "      <th>3</th>\n",
       "      <td>enron3\\ham\\0005.2001-02-08.kitchen.ham.txt</td>\n",
       "      <td>epmi files protest of entergy transco</td>\n",
       "      <td>attached is our filing made yesterday protesti...</td>\n",
       "    </tr>\n",
       "    <tr>\n",
       "      <th>4</th>\n",
       "      <td>enron3\\ham\\0006.2001-02-08.kitchen.ham.txt</td>\n",
       "      <td>california power 2 / 8</td>\n",
       "      <td>please contact kristin walsh ( x 39510 ) or ro...</td>\n",
       "    </tr>\n",
       "  </tbody>\n",
       "</table>\n",
       "</div>"
      ],
      "text/plain": [
       "                                         File  \\\n",
       "0  enron3\\ham\\0001.2001-02-07.kitchen.ham.txt   \n",
       "1  enron3\\ham\\0002.2001-02-07.kitchen.ham.txt   \n",
       "2  enron3\\ham\\0003.2001-02-08.kitchen.ham.txt   \n",
       "3  enron3\\ham\\0005.2001-02-08.kitchen.ham.txt   \n",
       "4  enron3\\ham\\0006.2001-02-08.kitchen.ham.txt   \n",
       "\n",
       "                                 Subject  \\\n",
       "0            key hr issues going forward   \n",
       "1                             congrats !   \n",
       "2       re : key hr issues going forward   \n",
       "3  epmi files protest of entergy transco   \n",
       "4                 california power 2 / 8   \n",
       "\n",
       "                                                Body  \n",
       "0  a ) year end reviews - report needs generating...  \n",
       "1  contratulations on the execution of the centra...  \n",
       "2  all is under control :\\na - we ' ve set up a \"...  \n",
       "3  attached is our filing made yesterday protesti...  \n",
       "4  please contact kristin walsh ( x 39510 ) or ro...  "
      ]
     },
     "execution_count": 26,
     "metadata": {},
     "output_type": "execute_result"
    }
   ],
   "source": [
    "df.head()"
   ]
  },
  {
   "cell_type": "code",
   "execution_count": 27,
   "id": "3f2ef427",
   "metadata": {},
   "outputs": [],
   "source": [
    "enron_dir = \"enron4\"\n",
    "\n",
    "with open('enron4_emails.csv', 'w', newline='') as csvfile:\n",
    "    fieldnames = ['File', 'Subject', 'Body']\n",
    "    writer = csv.DictWriter(csvfile, fieldnames=fieldnames)\n",
    "    writer.writeheader()\n",
    "\n",
    "    for root, dirs, files in os.walk(enron_dir):\n",
    "        for file in files:\n",
    "            filepath = os.path.join(root, file)\n",
    "            with open(filepath, 'r', encoding='utf-8', errors='ignore') as f:\n",
    "                content = f.read()\n",
    "                subject_match = re.search(r\"^Subject: (.+)\", content, re.M)\n",
    "                subject = subject_match.group(1) if subject_match else \"\"\n",
    "                body_match = re.search(r\"\\n(.+)\", content, re.S)\n",
    "                body = body_match.group(1) if body_match else \"\"\n",
    "                writer.writerow({'File': filepath, 'Subject': subject, 'Body': body})"
   ]
  },
  {
   "cell_type": "code",
   "execution_count": 28,
   "id": "231b8a4d",
   "metadata": {},
   "outputs": [],
   "source": [
    "df = pd.read_csv('enron4_emails.csv')"
   ]
  },
  {
   "cell_type": "code",
   "execution_count": 29,
   "id": "74a39247",
   "metadata": {},
   "outputs": [
    {
     "data": {
      "text/html": [
       "<div>\n",
       "<style scoped>\n",
       "    .dataframe tbody tr th:only-of-type {\n",
       "        vertical-align: middle;\n",
       "    }\n",
       "\n",
       "    .dataframe tbody tr th {\n",
       "        vertical-align: top;\n",
       "    }\n",
       "\n",
       "    .dataframe thead th {\n",
       "        text-align: right;\n",
       "    }\n",
       "</style>\n",
       "<table border=\"1\" class=\"dataframe\">\n",
       "  <thead>\n",
       "    <tr style=\"text-align: right;\">\n",
       "      <th></th>\n",
       "      <th>File</th>\n",
       "      <th>Subject</th>\n",
       "      <th>Body</th>\n",
       "    </tr>\n",
       "  </thead>\n",
       "  <tbody>\n",
       "    <tr>\n",
       "      <th>0</th>\n",
       "      <td>enron4\\ham\\0001.2001-04-02.williams.ham.txt</td>\n",
       "      <td>re : quasi</td>\n",
       "      <td>good morning ,\\ni ' d love to go get some coff...</td>\n",
       "    </tr>\n",
       "    <tr>\n",
       "      <th>1</th>\n",
       "      <td>enron4\\ham\\0004.2001-04-02.williams.ham.txt</td>\n",
       "      <td>enrononline desk to desk id and password</td>\n",
       "      <td>bill ,\\nthe epmi - st - wbom book has been set...</td>\n",
       "    </tr>\n",
       "    <tr>\n",
       "      <th>2</th>\n",
       "      <td>enron4\\ham\\0006.2001-04-03.williams.ham.txt</td>\n",
       "      <td>david gray</td>\n",
       "      <td>bill ,\\nis this the david gray you are going t...</td>\n",
       "    </tr>\n",
       "    <tr>\n",
       "      <th>3</th>\n",
       "      <td>enron4\\ham\\0013.2001-04-03.williams.ham.txt</td>\n",
       "      <td>re : monday blues</td>\n",
       "      <td>good morning . i ' m glad to hear that you are...</td>\n",
       "    </tr>\n",
       "    <tr>\n",
       "      <th>4</th>\n",
       "      <td>enron4\\ham\\0017.2001-04-03.williams.ham.txt</td>\n",
       "      <td>monday blues</td>\n",
       "      <td>bill ,\\ni am having such a terrible day . i am...</td>\n",
       "    </tr>\n",
       "  </tbody>\n",
       "</table>\n",
       "</div>"
      ],
      "text/plain": [
       "                                          File  \\\n",
       "0  enron4\\ham\\0001.2001-04-02.williams.ham.txt   \n",
       "1  enron4\\ham\\0004.2001-04-02.williams.ham.txt   \n",
       "2  enron4\\ham\\0006.2001-04-03.williams.ham.txt   \n",
       "3  enron4\\ham\\0013.2001-04-03.williams.ham.txt   \n",
       "4  enron4\\ham\\0017.2001-04-03.williams.ham.txt   \n",
       "\n",
       "                                    Subject  \\\n",
       "0                                re : quasi   \n",
       "1  enrononline desk to desk id and password   \n",
       "2                                david gray   \n",
       "3                         re : monday blues   \n",
       "4                              monday blues   \n",
       "\n",
       "                                                Body  \n",
       "0  good morning ,\\ni ' d love to go get some coff...  \n",
       "1  bill ,\\nthe epmi - st - wbom book has been set...  \n",
       "2  bill ,\\nis this the david gray you are going t...  \n",
       "3  good morning . i ' m glad to hear that you are...  \n",
       "4  bill ,\\ni am having such a terrible day . i am...  "
      ]
     },
     "execution_count": 29,
     "metadata": {},
     "output_type": "execute_result"
    }
   ],
   "source": [
    "df.head()"
   ]
  },
  {
   "cell_type": "code",
   "execution_count": 30,
   "id": "726d8d4d",
   "metadata": {},
   "outputs": [],
   "source": [
    "enron_dir = \"enron5\"\n",
    "\n",
    "with open('enron5_emails.csv', 'w', newline='') as csvfile:\n",
    "    fieldnames = ['File', 'Subject', 'Body']\n",
    "    writer = csv.DictWriter(csvfile, fieldnames=fieldnames)\n",
    "    writer.writeheader()\n",
    "\n",
    "    for root, dirs, files in os.walk(enron_dir):\n",
    "        for file in files:\n",
    "            filepath = os.path.join(root, file)\n",
    "            with open(filepath, 'r', encoding='utf-8', errors='ignore') as f:\n",
    "                content = f.read()\n",
    "                subject_match = re.search(r\"^Subject: (.+)\", content, re.M)\n",
    "                subject = subject_match.group(1) if subject_match else \"\"\n",
    "                body_match = re.search(r\"\\n(.+)\", content, re.S)\n",
    "                body = body_match.group(1) if body_match else \"\"\n",
    "                writer.writerow({'File': filepath, 'Subject': subject, 'Body': body})"
   ]
  },
  {
   "cell_type": "code",
   "execution_count": 31,
   "id": "98314f24",
   "metadata": {},
   "outputs": [],
   "source": [
    "df = pd.read_csv('enron5_emails.csv')"
   ]
  },
  {
   "cell_type": "code",
   "execution_count": 32,
   "id": "5793ec78",
   "metadata": {},
   "outputs": [
    {
     "data": {
      "text/html": [
       "<div>\n",
       "<style scoped>\n",
       "    .dataframe tbody tr th:only-of-type {\n",
       "        vertical-align: middle;\n",
       "    }\n",
       "\n",
       "    .dataframe tbody tr th {\n",
       "        vertical-align: top;\n",
       "    }\n",
       "\n",
       "    .dataframe thead th {\n",
       "        text-align: right;\n",
       "    }\n",
       "</style>\n",
       "<table border=\"1\" class=\"dataframe\">\n",
       "  <thead>\n",
       "    <tr style=\"text-align: right;\">\n",
       "      <th></th>\n",
       "      <th>File</th>\n",
       "      <th>Subject</th>\n",
       "      <th>Body</th>\n",
       "    </tr>\n",
       "  </thead>\n",
       "  <tbody>\n",
       "    <tr>\n",
       "      <th>0</th>\n",
       "      <td>enron5\\ham\\0001.2000-01-17.beck.ham.txt</td>\n",
       "      <td>leadership development pilot</td>\n",
       "      <td>sally :\\nwhat timing , ask and you shall recei...</td>\n",
       "    </tr>\n",
       "    <tr>\n",
       "      <th>1</th>\n",
       "      <td>enron5\\ham\\0003.2000-01-17.beck.ham.txt</td>\n",
       "      <td>re : additional responsibility</td>\n",
       "      <td>congratulations on this additional responsibil...</td>\n",
       "    </tr>\n",
       "    <tr>\n",
       "      <th>2</th>\n",
       "      <td>enron5\\ham\\0007.2000-01-17.beck.ham.txt</td>\n",
       "      <td>global risk management operations</td>\n",
       "      <td>congratulations !\\ndc\\n- - - - - - - - - - - -...</td>\n",
       "    </tr>\n",
       "    <tr>\n",
       "      <th>3</th>\n",
       "      <td>enron5\\ham\\0012.2000-01-17.beck.ham.txt</td>\n",
       "      <td>global risk management operations</td>\n",
       "      <td>sally , congratulations .\\n- - - - - - - - - -...</td>\n",
       "    </tr>\n",
       "    <tr>\n",
       "      <th>4</th>\n",
       "      <td>enron5\\ham\\0017.2000-01-17.beck.ham.txt</td>\n",
       "      <td>global risk management operations</td>\n",
       "      <td>congratulations , sally ! ! !\\nkk\\n- - - - - -...</td>\n",
       "    </tr>\n",
       "  </tbody>\n",
       "</table>\n",
       "</div>"
      ],
      "text/plain": [
       "                                      File                            Subject  \\\n",
       "0  enron5\\ham\\0001.2000-01-17.beck.ham.txt       leadership development pilot   \n",
       "1  enron5\\ham\\0003.2000-01-17.beck.ham.txt     re : additional responsibility   \n",
       "2  enron5\\ham\\0007.2000-01-17.beck.ham.txt  global risk management operations   \n",
       "3  enron5\\ham\\0012.2000-01-17.beck.ham.txt  global risk management operations   \n",
       "4  enron5\\ham\\0017.2000-01-17.beck.ham.txt  global risk management operations   \n",
       "\n",
       "                                                Body  \n",
       "0  sally :\\nwhat timing , ask and you shall recei...  \n",
       "1  congratulations on this additional responsibil...  \n",
       "2  congratulations !\\ndc\\n- - - - - - - - - - - -...  \n",
       "3  sally , congratulations .\\n- - - - - - - - - -...  \n",
       "4  congratulations , sally ! ! !\\nkk\\n- - - - - -...  "
      ]
     },
     "execution_count": 32,
     "metadata": {},
     "output_type": "execute_result"
    }
   ],
   "source": [
    "df.head()"
   ]
  },
  {
   "cell_type": "code",
   "execution_count": 35,
   "id": "3b66fa66",
   "metadata": {},
   "outputs": [],
   "source": [
    "enron_dir = \"enron6\"\n",
    "\n",
    "with open('enron6_emails.csv', 'w', newline='',encoding='utf-8') as csvfile:\n",
    "    fieldnames = ['File', 'Subject', 'Body']\n",
    "    writer = csv.DictWriter(csvfile, fieldnames=fieldnames)\n",
    "    writer.writeheader()\n",
    "\n",
    "    for root, dirs, files in os.walk(enron_dir):\n",
    "        for file in files:\n",
    "            filepath = os.path.join(root, file)\n",
    "            with open(filepath, 'r', encoding='utf-8', errors='ignore') as f:\n",
    "                content = f.read()\n",
    "                subject_match = re.search(r\"^Subject: (.+)\", content, re.M)\n",
    "                subject = subject_match.group(1) if subject_match else \"\"\n",
    "                body_match = re.search(r\"\\n(.+)\", content, re.S)\n",
    "                body = body_match.group(1) if body_match else \"\"\n",
    "                writer.writerow({'File': filepath, 'Subject': subject, 'Body': body})"
   ]
  },
  {
   "cell_type": "code",
   "execution_count": 36,
   "id": "4622bc9e",
   "metadata": {},
   "outputs": [],
   "source": [
    "df = pd.read_csv('enron6_emails.csv')"
   ]
  },
  {
   "cell_type": "code",
   "execution_count": 37,
   "id": "b0321233",
   "metadata": {},
   "outputs": [
    {
     "data": {
      "text/html": [
       "<div>\n",
       "<style scoped>\n",
       "    .dataframe tbody tr th:only-of-type {\n",
       "        vertical-align: middle;\n",
       "    }\n",
       "\n",
       "    .dataframe tbody tr th {\n",
       "        vertical-align: top;\n",
       "    }\n",
       "\n",
       "    .dataframe thead th {\n",
       "        text-align: right;\n",
       "    }\n",
       "</style>\n",
       "<table border=\"1\" class=\"dataframe\">\n",
       "  <thead>\n",
       "    <tr style=\"text-align: right;\">\n",
       "      <th></th>\n",
       "      <th>File</th>\n",
       "      <th>Subject</th>\n",
       "      <th>Body</th>\n",
       "    </tr>\n",
       "  </thead>\n",
       "  <tbody>\n",
       "    <tr>\n",
       "      <th>0</th>\n",
       "      <td>enron6\\ham\\0001.2000-06-06.lokay.ham.txt</td>\n",
       "      <td>key dates and impact of upcoming sap implement...</td>\n",
       "      <td>over the next few weeks , project apollo and b...</td>\n",
       "    </tr>\n",
       "    <tr>\n",
       "      <th>1</th>\n",
       "      <td>enron6\\ham\\0005.2000-06-06.lokay.ham.txt</td>\n",
       "      <td>transportation to resort</td>\n",
       "      <td>please be informed , a mini - bus has been res...</td>\n",
       "    </tr>\n",
       "    <tr>\n",
       "      <th>2</th>\n",
       "      <td>enron6\\ham\\0009.2000-06-07.lokay.ham.txt</td>\n",
       "      <td>human resources organization</td>\n",
       "      <td>as enron continues to address the human capita...</td>\n",
       "    </tr>\n",
       "    <tr>\n",
       "      <th>3</th>\n",
       "      <td>enron6\\ham\\0012.2000-06-08.lokay.ham.txt</td>\n",
       "      <td>what do you want to know today ?</td>\n",
       "      <td>\" a man with a new idea is a crank until he su...</td>\n",
       "    </tr>\n",
       "    <tr>\n",
       "      <th>4</th>\n",
       "      <td>enron6\\ham\\0015.2000-06-09.lokay.ham.txt</td>\n",
       "      <td>tw weekly , 6 - 9 - 00</td>\n",
       "      <td>please see the attached file and let me know i...</td>\n",
       "    </tr>\n",
       "  </tbody>\n",
       "</table>\n",
       "</div>"
      ],
      "text/plain": [
       "                                       File  \\\n",
       "0  enron6\\ham\\0001.2000-06-06.lokay.ham.txt   \n",
       "1  enron6\\ham\\0005.2000-06-06.lokay.ham.txt   \n",
       "2  enron6\\ham\\0009.2000-06-07.lokay.ham.txt   \n",
       "3  enron6\\ham\\0012.2000-06-08.lokay.ham.txt   \n",
       "4  enron6\\ham\\0015.2000-06-09.lokay.ham.txt   \n",
       "\n",
       "                                             Subject  \\\n",
       "0  key dates and impact of upcoming sap implement...   \n",
       "1                           transportation to resort   \n",
       "2                       human resources organization   \n",
       "3                   what do you want to know today ?   \n",
       "4                             tw weekly , 6 - 9 - 00   \n",
       "\n",
       "                                                Body  \n",
       "0  over the next few weeks , project apollo and b...  \n",
       "1  please be informed , a mini - bus has been res...  \n",
       "2  as enron continues to address the human capita...  \n",
       "3  \" a man with a new idea is a crank until he su...  \n",
       "4  please see the attached file and let me know i...  "
      ]
     },
     "execution_count": 37,
     "metadata": {},
     "output_type": "execute_result"
    }
   ],
   "source": [
    "df.head()"
   ]
  },
  {
   "cell_type": "code",
   "execution_count": null,
   "id": "00fa658a",
   "metadata": {},
   "outputs": [],
   "source": []
  },
  {
   "cell_type": "code",
   "execution_count": 1,
   "id": "95cf02ba",
   "metadata": {},
   "outputs": [],
   "source": [
    "import pandas as pd\n",
    "import glob\n",
    "\n",
    "file_list = glob.glob(\"*.csv\")\n",
    "\n",
    "df_list = []\n",
    "\n",
    "for file in file_list:\n",
    "    df = pd.read_csv(file)\n",
    "    df_list.append(df)\n",
    "\n",
    "merged_df = pd.concat(df_list, axis=0)\n",
    "\n",
    "\n",
    "merged_df.to_csv(\"enron_emails.csv\", index=False)"
   ]
  },
  {
   "cell_type": "code",
   "execution_count": 2,
   "id": "54468cd9",
   "metadata": {},
   "outputs": [],
   "source": [
    "df = pd.read_csv('enron_emails.csv')"
   ]
  },
  {
   "cell_type": "code",
   "execution_count": 3,
   "id": "b3e8e691",
   "metadata": {},
   "outputs": [
    {
     "data": {
      "text/html": [
       "<div>\n",
       "<style scoped>\n",
       "    .dataframe tbody tr th:only-of-type {\n",
       "        vertical-align: middle;\n",
       "    }\n",
       "\n",
       "    .dataframe tbody tr th {\n",
       "        vertical-align: top;\n",
       "    }\n",
       "\n",
       "    .dataframe thead th {\n",
       "        text-align: right;\n",
       "    }\n",
       "</style>\n",
       "<table border=\"1\" class=\"dataframe\">\n",
       "  <thead>\n",
       "    <tr style=\"text-align: right;\">\n",
       "      <th></th>\n",
       "      <th>File</th>\n",
       "      <th>Subject</th>\n",
       "      <th>Body</th>\n",
       "    </tr>\n",
       "  </thead>\n",
       "  <tbody>\n",
       "    <tr>\n",
       "      <th>0</th>\n",
       "      <td>enron2\\ham\\0001.1999-12-10.kaminski.ham.txt</td>\n",
       "      <td>re : rankings</td>\n",
       "      <td>thank you .</td>\n",
       "    </tr>\n",
       "    <tr>\n",
       "      <th>1</th>\n",
       "      <td>enron2\\ham\\0003.1999-12-10.kaminski.ham.txt</td>\n",
       "      <td>re : visit to enron</td>\n",
       "      <td>vince ,\\ndec . 29 at 9 : 00 will be fine . i h...</td>\n",
       "    </tr>\n",
       "    <tr>\n",
       "      <th>2</th>\n",
       "      <td>enron2\\ham\\0004.1999-12-10.kaminski.ham.txt</td>\n",
       "      <td>research group move to the 19 th floor</td>\n",
       "      <td>hello all :\\nin case any of you feel energetic...</td>\n",
       "    </tr>\n",
       "    <tr>\n",
       "      <th>3</th>\n",
       "      <td>enron2\\ham\\0005.1999-12-12.kaminski.ham.txt</td>\n",
       "      <td>christmas baskets</td>\n",
       "      <td>the christmas baskets have been ordered .\\nwe ...</td>\n",
       "    </tr>\n",
       "    <tr>\n",
       "      <th>4</th>\n",
       "      <td>enron2\\ham\\0006.1999-12-13.kaminski.ham.txt</td>\n",
       "      <td>japan candidate</td>\n",
       "      <td>vince ,\\ni spoke with whalley at the sa offsit...</td>\n",
       "    </tr>\n",
       "  </tbody>\n",
       "</table>\n",
       "</div>"
      ],
      "text/plain": [
       "                                          File  \\\n",
       "0  enron2\\ham\\0001.1999-12-10.kaminski.ham.txt   \n",
       "1  enron2\\ham\\0003.1999-12-10.kaminski.ham.txt   \n",
       "2  enron2\\ham\\0004.1999-12-10.kaminski.ham.txt   \n",
       "3  enron2\\ham\\0005.1999-12-12.kaminski.ham.txt   \n",
       "4  enron2\\ham\\0006.1999-12-13.kaminski.ham.txt   \n",
       "\n",
       "                                  Subject  \\\n",
       "0                           re : rankings   \n",
       "1                     re : visit to enron   \n",
       "2  research group move to the 19 th floor   \n",
       "3                       christmas baskets   \n",
       "4                         japan candidate   \n",
       "\n",
       "                                                Body  \n",
       "0                                        thank you .  \n",
       "1  vince ,\\ndec . 29 at 9 : 00 will be fine . i h...  \n",
       "2  hello all :\\nin case any of you feel energetic...  \n",
       "3  the christmas baskets have been ordered .\\nwe ...  \n",
       "4  vince ,\\ni spoke with whalley at the sa offsit...  "
      ]
     },
     "execution_count": 3,
     "metadata": {},
     "output_type": "execute_result"
    }
   ],
   "source": [
    "df.head()"
   ]
  },
  {
   "cell_type": "code",
   "execution_count": 4,
   "id": "12275600",
   "metadata": {},
   "outputs": [
    {
     "name": "stdout",
     "output_type": "stream",
     "text": [
      "<class 'pandas.core.frame.DataFrame'>\n",
      "RangeIndex: 33715 entries, 0 to 33714\n",
      "Data columns (total 3 columns):\n",
      " #   Column   Non-Null Count  Dtype \n",
      "---  ------   --------------  ----- \n",
      " 0   File     33715 non-null  object\n",
      " 1   Subject  33425 non-null  object\n",
      " 2   Body     33344 non-null  object\n",
      "dtypes: object(3)\n",
      "memory usage: 790.3+ KB\n"
     ]
    }
   ],
   "source": [
    "df.info()"
   ]
  },
  {
   "cell_type": "code",
   "execution_count": 20,
   "id": "e7129858",
   "metadata": {},
   "outputs": [
    {
     "data": {
      "text/plain": [
       "131072"
      ]
     },
     "execution_count": 20,
     "metadata": {},
     "output_type": "execute_result"
    }
   ],
   "source": [
    "import csv\n",
    "csv.field_size_limit(10000000) # Set maximum field size to 10 MB\n"
   ]
  },
  {
   "cell_type": "code",
   "execution_count": 21,
   "id": "5ad5af4e",
   "metadata": {},
   "outputs": [],
   "source": [
    "import csv\n",
    "\n",
    "with open('enron_emails.csv', 'r') as csv_file:\n",
    "    csv_reader = csv.DictReader(csv_file)\n",
    "    \n",
    "    with open('enron_emails_with_spam.csv', 'w', newline='', encoding='utf-8') as separated_file:\n",
    "        fieldnames = ['Subject', 'Body', 'Spam']\n",
    "        csv_writer = csv.DictWriter(separated_file, fieldnames=fieldnames)\n",
    "        csv_writer.writeheader()\n",
    "        \n",
    "        for row in csv_reader:\n",
    "            is_spam = 1 if 'spam' in row['File'] else 0\n",
    "            csv_writer.writerow({'Subject': row['Subject'], 'Body': row['Body'], 'Spam': is_spam})\n"
   ]
  },
  {
   "cell_type": "code",
   "execution_count": 3,
   "id": "ca3ca918",
   "metadata": {},
   "outputs": [],
   "source": [
    "df = pd.read_csv('enron_emails_with_spam.csv')"
   ]
  },
  {
   "cell_type": "code",
   "execution_count": 23,
   "id": "36491acc",
   "metadata": {},
   "outputs": [
    {
     "data": {
      "text/html": [
       "<div>\n",
       "<style scoped>\n",
       "    .dataframe tbody tr th:only-of-type {\n",
       "        vertical-align: middle;\n",
       "    }\n",
       "\n",
       "    .dataframe tbody tr th {\n",
       "        vertical-align: top;\n",
       "    }\n",
       "\n",
       "    .dataframe thead th {\n",
       "        text-align: right;\n",
       "    }\n",
       "</style>\n",
       "<table border=\"1\" class=\"dataframe\">\n",
       "  <thead>\n",
       "    <tr style=\"text-align: right;\">\n",
       "      <th></th>\n",
       "      <th>Subject</th>\n",
       "      <th>Body</th>\n",
       "      <th>Spam</th>\n",
       "    </tr>\n",
       "  </thead>\n",
       "  <tbody>\n",
       "    <tr>\n",
       "      <th>0</th>\n",
       "      <td>re : rankings</td>\n",
       "      <td>thank you .</td>\n",
       "      <td>0</td>\n",
       "    </tr>\n",
       "    <tr>\n",
       "      <th>1</th>\n",
       "      <td>re : visit to enron</td>\n",
       "      <td>vince ,\\ndec . 29 at 9 : 00 will be fine . i h...</td>\n",
       "      <td>0</td>\n",
       "    </tr>\n",
       "    <tr>\n",
       "      <th>2</th>\n",
       "      <td>research group move to the 19 th floor</td>\n",
       "      <td>hello all :\\nin case any of you feel energetic...</td>\n",
       "      <td>0</td>\n",
       "    </tr>\n",
       "    <tr>\n",
       "      <th>3</th>\n",
       "      <td>christmas baskets</td>\n",
       "      <td>the christmas baskets have been ordered .\\nwe ...</td>\n",
       "      <td>0</td>\n",
       "    </tr>\n",
       "    <tr>\n",
       "      <th>4</th>\n",
       "      <td>japan candidate</td>\n",
       "      <td>vince ,\\ni spoke with whalley at the sa offsit...</td>\n",
       "      <td>0</td>\n",
       "    </tr>\n",
       "  </tbody>\n",
       "</table>\n",
       "</div>"
      ],
      "text/plain": [
       "                                  Subject  \\\n",
       "0                           re : rankings   \n",
       "1                     re : visit to enron   \n",
       "2  research group move to the 19 th floor   \n",
       "3                       christmas baskets   \n",
       "4                         japan candidate   \n",
       "\n",
       "                                                Body  Spam  \n",
       "0                                        thank you .     0  \n",
       "1  vince ,\\ndec . 29 at 9 : 00 will be fine . i h...     0  \n",
       "2  hello all :\\nin case any of you feel energetic...     0  \n",
       "3  the christmas baskets have been ordered .\\nwe ...     0  \n",
       "4  vince ,\\ni spoke with whalley at the sa offsit...     0  "
      ]
     },
     "execution_count": 23,
     "metadata": {},
     "output_type": "execute_result"
    }
   ],
   "source": [
    "df.head()"
   ]
  },
  {
   "cell_type": "code",
   "execution_count": 25,
   "id": "a8b17895",
   "metadata": {},
   "outputs": [
    {
     "name": "stdout",
     "output_type": "stream",
     "text": [
      "Number of rows where spam is 0: 16545\n"
     ]
    }
   ],
   "source": [
    "count = (df['Spam'] == 0).sum()\n",
    "\n",
    "print(f\"Number of rows where spam is 0: {count}\")"
   ]
  },
  {
   "cell_type": "code",
   "execution_count": 26,
   "id": "5ff3ae66",
   "metadata": {},
   "outputs": [
    {
     "name": "stdout",
     "output_type": "stream",
     "text": [
      "Number of rows where spam is 1: 17170\n"
     ]
    }
   ],
   "source": [
    "count = (df['Spam'] == 1).sum()\n",
    "\n",
    "print(f\"Number of rows where spam is 1: {count}\")"
   ]
  },
  {
   "cell_type": "code",
   "execution_count": 5,
   "id": "07d6bbe0",
   "metadata": {},
   "outputs": [],
   "source": [
    "df['Subject'] = df['Subject'].fillna('')\n",
    "df['Body'] = df['Body'].fillna('')\n"
   ]
  },
  {
   "cell_type": "code",
   "execution_count": 24,
   "id": "b305d911",
   "metadata": {},
   "outputs": [],
   "source": [
    "import pandas as pd\n",
    "import numpy as np\n",
    "from sklearn.model_selection import train_test_split\n",
    "from sklearn.svm import SVC\n",
    "from sklearn.metrics import accuracy_score\n",
    "from sklearn.feature_extraction.text import TfidfVectorizer\n",
    "import nltk"
   ]
  },
  {
   "cell_type": "code",
   "execution_count": 11,
   "id": "54418b1f",
   "metadata": {},
   "outputs": [
    {
     "data": {
      "text/html": [
       "<div>\n",
       "<style scoped>\n",
       "    .dataframe tbody tr th:only-of-type {\n",
       "        vertical-align: middle;\n",
       "    }\n",
       "\n",
       "    .dataframe tbody tr th {\n",
       "        vertical-align: top;\n",
       "    }\n",
       "\n",
       "    .dataframe thead th {\n",
       "        text-align: right;\n",
       "    }\n",
       "</style>\n",
       "<table border=\"1\" class=\"dataframe\">\n",
       "  <thead>\n",
       "    <tr style=\"text-align: right;\">\n",
       "      <th></th>\n",
       "      <th>Subject</th>\n",
       "      <th>Body</th>\n",
       "      <th>Spam</th>\n",
       "    </tr>\n",
       "  </thead>\n",
       "  <tbody>\n",
       "    <tr>\n",
       "      <th>0</th>\n",
       "      <td>ranking</td>\n",
       "      <td>thank</td>\n",
       "      <td>0</td>\n",
       "    </tr>\n",
       "    <tr>\n",
       "      <th>1</th>\n",
       "      <td>visit enron</td>\n",
       "      <td>vince dec fine talked shirley havedirections t...</td>\n",
       "      <td>0</td>\n",
       "    </tr>\n",
       "    <tr>\n",
       "      <th>2</th>\n",
       "      <td>research group move th floor</td>\n",
       "      <td>hello case feel energetic box locatedat b mich...</td>\n",
       "      <td>0</td>\n",
       "    </tr>\n",
       "    <tr>\n",
       "      <th>3</th>\n",
       "      <td>christmas basket</td>\n",
       "      <td>christmas basket ordered ordered several baske...</td>\n",
       "      <td>0</td>\n",
       "    </tr>\n",
       "    <tr>\n",
       "      <th>4</th>\n",
       "      <td>japan candidate</td>\n",
       "      <td>vince spoke whalley sa offsite mentioned knew ...</td>\n",
       "      <td>0</td>\n",
       "    </tr>\n",
       "  </tbody>\n",
       "</table>\n",
       "</div>"
      ],
      "text/plain": [
       "                        Subject  \\\n",
       "0                       ranking   \n",
       "1                   visit enron   \n",
       "2  research group move th floor   \n",
       "3              christmas basket   \n",
       "4               japan candidate   \n",
       "\n",
       "                                                Body  Spam  \n",
       "0                                              thank     0  \n",
       "1  vince dec fine talked shirley havedirections t...     0  \n",
       "2  hello case feel energetic box locatedat b mich...     0  \n",
       "3  christmas basket ordered ordered several baske...     0  \n",
       "4  vince spoke whalley sa offsite mentioned knew ...     0  "
      ]
     },
     "execution_count": 11,
     "metadata": {},
     "output_type": "execute_result"
    }
   ],
   "source": [
    "df.head()"
   ]
  },
  {
   "cell_type": "code",
   "execution_count": 25,
   "id": "1924e562",
   "metadata": {
    "scrolled": true
   },
   "outputs": [],
   "source": [
    "vectorizer = TfidfVectorizer()\n",
    "X = vectorizer.fit_transform(df['Subject'].values)\n",
    "y = df['Spam'].values"
   ]
  },
  {
   "cell_type": "code",
   "execution_count": 32,
   "id": "b62e5b42",
   "metadata": {},
   "outputs": [],
   "source": [
    "X_train, X_test, y_train, y_test = train_test_split(X, y, test_size=0.25, random_state=42)"
   ]
  },
  {
   "cell_type": "code",
   "execution_count": 33,
   "id": "3af66d17",
   "metadata": {},
   "outputs": [
    {
     "data": {
      "text/plain": [
       "SVC(kernel='linear', probability=True)"
      ]
     },
     "execution_count": 33,
     "metadata": {},
     "output_type": "execute_result"
    }
   ],
   "source": [
    "model = SVC(kernel='linear', probability=True)\n",
    "model.fit(X_train, y_train)"
   ]
  },
  {
   "cell_type": "code",
   "execution_count": 34,
   "id": "2a621c8b",
   "metadata": {},
   "outputs": [],
   "source": [
    "y_pred = model.predict(X_test)"
   ]
  },
  {
   "cell_type": "code",
   "execution_count": 35,
   "id": "0e420bac",
   "metadata": {},
   "outputs": [
    {
     "name": "stdout",
     "output_type": "stream",
     "text": [
      "Accuracy: 93.44%\n"
     ]
    }
   ],
   "source": [
    "accuracy = accuracy_score(y_test, y_pred)\n",
    "print(\"Accuracy: {:.2f}%\".format(accuracy * 100))"
   ]
  },
  {
   "cell_type": "code",
   "execution_count": 36,
   "id": "0683195d",
   "metadata": {},
   "outputs": [],
   "source": []
  },
  {
   "cell_type": "code",
   "execution_count": 26,
   "id": "6f03aa81",
   "metadata": {},
   "outputs": [],
   "source": [
    "vectorizer = TfidfVectorizer()\n",
    "X = vectorizer.fit_transform(df['Body'].values)\n",
    "y = df['Spam'].values"
   ]
  },
  {
   "cell_type": "code",
   "execution_count": 27,
   "id": "744932de",
   "metadata": {},
   "outputs": [],
   "source": [
    "X_train, X_test, y_train, y_test = train_test_split(X, y, test_size=0.25, random_state=42)"
   ]
  },
  {
   "cell_type": "code",
   "execution_count": 28,
   "id": "4d6674bb",
   "metadata": {},
   "outputs": [
    {
     "data": {
      "text/plain": [
       "SVC(kernel='linear', probability=True)"
      ]
     },
     "execution_count": 28,
     "metadata": {},
     "output_type": "execute_result"
    }
   ],
   "source": [
    "model = SVC(kernel='linear', probability=True)\n",
    "model.fit(X_train, y_train)"
   ]
  },
  {
   "cell_type": "code",
   "execution_count": 29,
   "id": "a4ed63a7",
   "metadata": {},
   "outputs": [],
   "source": [
    "y_pred = model.predict(X_test)"
   ]
  },
  {
   "cell_type": "code",
   "execution_count": 30,
   "id": "4caaa8d6",
   "metadata": {},
   "outputs": [
    {
     "name": "stdout",
     "output_type": "stream",
     "text": [
      "Accuracy: 98.62%\n"
     ]
    }
   ],
   "source": [
    "accuracy = accuracy_score(y_test, y_pred)\n",
    "print(\"Accuracy: {:.2f}%\".format(accuracy * 100))"
   ]
  },
  {
   "cell_type": "code",
   "execution_count": 36,
   "id": "950290e3",
   "metadata": {},
   "outputs": [],
   "source": [
    "from sklearn.feature_extraction.text import CountVectorizer\n",
    "from sklearn.naive_bayes import MultinomialNB"
   ]
  },
  {
   "cell_type": "code",
   "execution_count": 33,
   "id": "856991cf",
   "metadata": {},
   "outputs": [],
   "source": [
    "vectorizer = CountVectorizer()\n",
    "X = vectorizer.fit_transform(df['Subject'].values)\n",
    "y = df['Spam'].values"
   ]
  },
  {
   "cell_type": "code",
   "execution_count": 34,
   "id": "22bee28c",
   "metadata": {},
   "outputs": [],
   "source": [
    "X_train, X_test, y_train, y_test = train_test_split(X, y, test_size=0.25, random_state=42)"
   ]
  },
  {
   "cell_type": "code",
   "execution_count": 37,
   "id": "5ce7392d",
   "metadata": {},
   "outputs": [
    {
     "data": {
      "text/plain": [
       "MultinomialNB()"
      ]
     },
     "execution_count": 37,
     "metadata": {},
     "output_type": "execute_result"
    }
   ],
   "source": [
    "model = MultinomialNB()\n",
    "model.fit(X_train, y_train)"
   ]
  },
  {
   "cell_type": "code",
   "execution_count": 38,
   "id": "a2a2a050",
   "metadata": {},
   "outputs": [],
   "source": [
    "y_pred = model.predict(X_test)"
   ]
  },
  {
   "cell_type": "code",
   "execution_count": 39,
   "id": "13d5081f",
   "metadata": {},
   "outputs": [
    {
     "name": "stdout",
     "output_type": "stream",
     "text": [
      "Accuracy: 91.07%\n"
     ]
    }
   ],
   "source": [
    "accuracy = accuracy_score(y_test, y_pred)\n",
    "print(\"Accuracy: {:.2f}%\".format(accuracy * 100))"
   ]
  },
  {
   "cell_type": "code",
   "execution_count": 40,
   "id": "df6e456a",
   "metadata": {},
   "outputs": [],
   "source": [
    "vectorizer = CountVectorizer()\n",
    "X = vectorizer.fit_transform(df['Body'].values)\n",
    "y = df['Spam'].values"
   ]
  },
  {
   "cell_type": "code",
   "execution_count": 41,
   "id": "38746940",
   "metadata": {},
   "outputs": [],
   "source": [
    "X_train, X_test, y_train, y_test = train_test_split(X, y, test_size=0.25, random_state=42)"
   ]
  },
  {
   "cell_type": "code",
   "execution_count": 42,
   "id": "7ffd606d",
   "metadata": {},
   "outputs": [
    {
     "data": {
      "text/plain": [
       "MultinomialNB()"
      ]
     },
     "execution_count": 42,
     "metadata": {},
     "output_type": "execute_result"
    }
   ],
   "source": [
    "model = MultinomialNB()\n",
    "model.fit(X_train, y_train)"
   ]
  },
  {
   "cell_type": "code",
   "execution_count": 43,
   "id": "8285188a",
   "metadata": {},
   "outputs": [],
   "source": [
    "y_pred = model.predict(X_test)"
   ]
  },
  {
   "cell_type": "code",
   "execution_count": 44,
   "id": "5c5358c3",
   "metadata": {},
   "outputs": [
    {
     "name": "stdout",
     "output_type": "stream",
     "text": [
      "Accuracy: 98.30%\n"
     ]
    }
   ],
   "source": [
    "accuracy = accuracy_score(y_test, y_pred)\n",
    "print(\"Accuracy: {:.2f}%\".format(accuracy * 100))"
   ]
  },
  {
   "cell_type": "code",
   "execution_count": null,
   "id": "4715c6e3",
   "metadata": {},
   "outputs": [],
   "source": []
  }
 ],
 "metadata": {
  "kernelspec": {
   "display_name": "Python 3 (ipykernel)",
   "language": "python",
   "name": "python3"
  },
  "language_info": {
   "codemirror_mode": {
    "name": "ipython",
    "version": 3
   },
   "file_extension": ".py",
   "mimetype": "text/x-python",
   "name": "python",
   "nbconvert_exporter": "python",
   "pygments_lexer": "ipython3",
   "version": "3.9.12"
  }
 },
 "nbformat": 4,
 "nbformat_minor": 5
}
